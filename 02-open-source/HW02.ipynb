{
 "cells": [
  {
   "cell_type": "code",
   "execution_count": null,
   "id": "735fa02a-52bb-485a-a574-f7e29d7989a2",
   "metadata": {},
   "outputs": [],
   "source": [
    "# Q1. Running Ollama with Docker\n",
    "# executed in docker via terminal\n",
    "# ollama -v"
   ]
  },
  {
   "cell_type": "code",
   "execution_count": null,
   "id": "e67eea1e-5f0b-48e0-a5f4-61d97959d4c7",
   "metadata": {},
   "outputs": [],
   "source": [
    "# Q2. Downloading an LLM"
   ]
  },
  {
   "cell_type": "code",
   "execution_count": 7,
   "id": "30aae88f-4fba-4aba-b8a6-43476eec44d2",
   "metadata": {},
   "outputs": [
    {
     "name": "stdout",
     "output_type": "stream",
     "text": [
      "cat: /root/.ollama/models/manifests/registry.ollama.ai/library/gemma/2b: Permission denied\n"
     ]
    }
   ],
   "source": [
    "# cat /root/.ollama/models/manifests/registry.ollama.ai/library/gemma/2b"
   ]
  },
  {
   "cell_type": "code",
   "execution_count": null,
   "id": "4bda71ce-0755-41b5-8a4a-97898e551f75",
   "metadata": {},
   "outputs": [],
   "source": [
    "# Q3. Running the LLM"
   ]
  },
  {
   "cell_type": "code",
   "execution_count": 8,
   "id": "8364f2b9-e55d-4425-b355-b9af48941690",
   "metadata": {},
   "outputs": [],
   "source": [
    "from openai import OpenAI\n",
    "\n",
    "client = OpenAI(\n",
    "    base_url='http://localhost:11434/v1/',\n",
    "    api_key='ollama',\n",
    ")"
   ]
  },
  {
   "cell_type": "code",
   "execution_count": 9,
   "id": "1fa6f2c5-d424-48b6-bf7f-d6a74a394e20",
   "metadata": {},
   "outputs": [],
   "source": [
    "def llm(prompt):\n",
    "    response = client.chat.completions.create(\n",
    "        model='gemma:2b',\n",
    "        messages=[{\"role\": \"user\", \"content\": prompt}]\n",
    "    )\n",
    "    \n",
    "    return response.choices[0].message.content"
   ]
  },
  {
   "cell_type": "code",
   "execution_count": 15,
   "id": "e3bf71c9-ce58-4607-ba21-afff50307462",
   "metadata": {},
   "outputs": [],
   "source": [
    "prompt = \"10*10\""
   ]
  },
  {
   "cell_type": "code",
   "execution_count": 16,
   "id": "e76e528b-fc8d-4fa1-97f1-aab01abd4837",
   "metadata": {},
   "outputs": [
    {
     "data": {
      "text/plain": [
       "'Sure, here is the answer to the question:\\n\\n```python\\n10 * 10 < end_of_turn\\n\\n```\\n\\n**Explanation:**\\n\\n* `10 * 10` evaluates to 100, which is a numeric type that is smaller than the end of the `end_of_turn` variable.\\n* `end_of_turn` is not defined in the context of this code, so it is assumed to be an end-of-line character.\\n\\n**Conclusion:**\\n\\nThe expression evaluates to `True` because 100 is less than the end-of-line character.'"
      ]
     },
     "execution_count": 16,
     "metadata": {},
     "output_type": "execute_result"
    }
   ],
   "source": [
    "llm(prompt)"
   ]
  },
  {
   "cell_type": "code",
   "execution_count": null,
   "id": "d538c52f-399e-431e-8b3d-f00a98e8fceb",
   "metadata": {},
   "outputs": [],
   "source": [
    "# Q4. Donwloading the weights"
   ]
  },
  {
   "cell_type": "code",
   "execution_count": null,
   "id": "0fe285a7-c37f-4372-b6f4-49fb0bb99960",
   "metadata": {},
   "outputs": [],
   "source": [
    "# Q5. Adding the weights"
   ]
  },
  {
   "cell_type": "code",
   "execution_count": null,
   "id": "93ba7522-5044-4821-9bd5-65d31024eb14",
   "metadata": {},
   "outputs": [],
   "source": [
    "# Q6. Serving it\n",
    "# after building and running with the weights"
   ]
  },
  {
   "cell_type": "code",
   "execution_count": 18,
   "id": "9276b829-7ac5-46b5-b652-9f9ad5f25c18",
   "metadata": {},
   "outputs": [],
   "source": [
    "prompt = \"What's the formula for energy?\""
   ]
  },
  {
   "cell_type": "code",
   "execution_count": 22,
   "id": "c1144f6b-0b00-499b-a71e-a093e361e8a2",
   "metadata": {},
   "outputs": [
    {
     "data": {
      "text/plain": [
       "\"Sure, here's the formula for energy:\\n\\n**E = K + U**\\n\\nWhere:\\n\\n* **E** is the energy in joules (J)\\n* **K** is the kinetic energy in joules (J)\\n* **U** is the potential energy in joules (J)\\n\\n**Kinetic energy (K)** is the energy an object possesses when it moves or is in motion. It is calculated as half the product of an object's mass (m) and its velocity (v) squared:\\n\\n**K = 1/2mv^2**\\n\\n**Potential energy (U)** is the energy an object possesses due to its position or configuration. It is calculated as the product of an object's mass, gravitational constant (g), and height or position above a reference point.\\n\\n**U = mgh**\\n\\nWhere:\\n\\n* **m** is the mass in kilograms (kg)\\n* **g** is the gravitational constant (9.8 m/s^2)\\n* **h** is the height or position in meters (m)\\n\\nThe formula shows that energy can be expressed as the sum of kinetic and potential energy. The kinetic energy is a measure of the object's ability to do work, while the potential energy is a measure of the object's ability to do work against a force.\""
      ]
     },
     "execution_count": 22,
     "metadata": {},
     "output_type": "execute_result"
    }
   ],
   "source": [
    "response = client.chat.completions.create(\n",
    "    model='gemma:2b',\n",
    "    messages=[{\"role\": \"user\", \"content\": prompt}],\n",
    "    temperature=0.0\n",
    ")\n",
    "\n",
    "response.choices[0].message.content"
   ]
  },
  {
   "cell_type": "code",
   "execution_count": 23,
   "id": "132ebd10-e289-4f1c-a409-144ffa002340",
   "metadata": {},
   "outputs": [
    {
     "data": {
      "text/plain": [
       "281"
      ]
     },
     "execution_count": 23,
     "metadata": {},
     "output_type": "execute_result"
    }
   ],
   "source": [
    "# number of tokens\n",
    "response.usage.completion_tokens"
   ]
  }
 ],
 "metadata": {
  "kernelspec": {
   "display_name": "Python 3 (ipykernel)",
   "language": "python",
   "name": "python3"
  },
  "language_info": {
   "codemirror_mode": {
    "name": "ipython",
    "version": 3
   },
   "file_extension": ".py",
   "mimetype": "text/x-python",
   "name": "python",
   "nbconvert_exporter": "python",
   "pygments_lexer": "ipython3",
   "version": "3.10.13"
  }
 },
 "nbformat": 4,
 "nbformat_minor": 5
}
