{
 "cells": [
  {
   "cell_type": "code",
   "execution_count": null,
   "id": "735fa02a-52bb-485a-a574-f7e29d7989a2",
   "metadata": {},
   "outputs": [],
   "source": [
    "# Q1. Running Ollama with Docker\n",
    "# executed in docker via terminal"
   ]
  },
  {
   "cell_type": "code",
   "execution_count": null,
   "id": "e67eea1e-5f0b-48e0-a5f4-61d97959d4c7",
   "metadata": {},
   "outputs": [],
   "source": [
    "# Q2. Downloading an LLM"
   ]
  },
  {
   "cell_type": "code",
   "execution_count": null,
   "id": "30aae88f-4fba-4aba-b8a6-43476eec44d2",
   "metadata": {},
   "outputs": [],
   "source": []
  },
  {
   "cell_type": "code",
   "execution_count": null,
   "id": "4bda71ce-0755-41b5-8a4a-97898e551f75",
   "metadata": {},
   "outputs": [],
   "source": [
    "# Q3. Running the LLM"
   ]
  },
  {
   "cell_type": "code",
   "execution_count": null,
   "id": "8364f2b9-e55d-4425-b355-b9af48941690",
   "metadata": {},
   "outputs": [],
   "source": []
  },
  {
   "cell_type": "code",
   "execution_count": null,
   "id": "d538c52f-399e-431e-8b3d-f00a98e8fceb",
   "metadata": {},
   "outputs": [],
   "source": [
    "# Q4. Donwloading the weights"
   ]
  },
  {
   "cell_type": "code",
   "execution_count": null,
   "id": "a7a38a11-56f1-49c6-9559-2b51391d879a",
   "metadata": {},
   "outputs": [],
   "source": []
  },
  {
   "cell_type": "code",
   "execution_count": null,
   "id": "0fe285a7-c37f-4372-b6f4-49fb0bb99960",
   "metadata": {},
   "outputs": [],
   "source": [
    "# Q5. Adding the weights"
   ]
  },
  {
   "cell_type": "code",
   "execution_count": null,
   "id": "b832dbe1-5c56-4ee6-9f2b-8702e07ea753",
   "metadata": {},
   "outputs": [],
   "source": []
  },
  {
   "cell_type": "code",
   "execution_count": null,
   "id": "93ba7522-5044-4821-9bd5-65d31024eb14",
   "metadata": {},
   "outputs": [],
   "source": [
    "# Q6. Serving it"
   ]
  },
  {
   "cell_type": "code",
   "execution_count": null,
   "id": "9276b829-7ac5-46b5-b652-9f9ad5f25c18",
   "metadata": {},
   "outputs": [],
   "source": []
  }
 ],
 "metadata": {
  "kernelspec": {
   "display_name": "Python 3 (ipykernel)",
   "language": "python",
   "name": "python3"
  },
  "language_info": {
   "codemirror_mode": {
    "name": "ipython",
    "version": 3
   },
   "file_extension": ".py",
   "mimetype": "text/x-python",
   "name": "python",
   "nbconvert_exporter": "python",
   "pygments_lexer": "ipython3",
   "version": "3.10.13"
  }
 },
 "nbformat": 4,
 "nbformat_minor": 5
}
