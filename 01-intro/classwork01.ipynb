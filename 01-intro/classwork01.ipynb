{
 "cells": [
  {
   "cell_type": "code",
   "execution_count": null,
   "id": "1d2460ad-5b48-4e8c-832a-a2c9ae366cd0",
   "metadata": {},
   "outputs": [],
   "source": [
    "# set up and test simple commands with LLM \n",
    "# swaped OpenAI for Mistral due to expired free tier quota"
   ]
  },
  {
   "cell_type": "code",
   "execution_count": null,
   "id": "719e5c5e-7381-48e6-9ff5-71b8be8f19b0",
   "metadata": {},
   "outputs": [],
   "source": [
    "# import mistral \n",
    "from mistralai.client import MistralClient\n",
    "from mistralai.models.chat_completion import ChatMessage"
   ]
  },
  {
   "cell_type": "code",
   "execution_count": null,
   "id": "6ea0012c-a5f2-4c74-9040-74c5952795a4",
   "metadata": {},
   "outputs": [],
   "source": [
    "import os"
   ]
  },
  {
   "cell_type": "code",
   "execution_count": null,
   "id": "ab5ee387-23e9-4f75-9e1e-1791d87be0db",
   "metadata": {},
   "outputs": [],
   "source": [
    "# get API key stored in env variable\n",
    "api_key = os.getenv(\"MISTRAL_KEY\")"
   ]
  },
  {
   "cell_type": "code",
   "execution_count": null,
   "id": "d909dfaa-1160-4903-8ed3-e95ea3b469c9",
   "metadata": {},
   "outputs": [],
   "source": [
    "client = MistralClient(api_key = api_key)"
   ]
  },
  {
   "cell_type": "code",
   "execution_count": null,
   "id": "293c2656-43d2-49cb-8f51-ba5d95cab831",
   "metadata": {},
   "outputs": [],
   "source": [
    "# ask it a question\n",
    "response = client.chat(\n",
    "    model = 'mistral-tiny',\n",
    "    messages = [ChatMessage(role = \"user\", content = \"Is it too late to join the course?\")]\n",
    ")"
   ]
  },
  {
   "cell_type": "code",
   "execution_count": null,
   "id": "2833567e-bdf2-4dc0-adf0-7f5bb9d784da",
   "metadata": {},
   "outputs": [],
   "source": [
    "print(response.choices[0].message.content)"
   ]
  },
  {
   "cell_type": "code",
   "execution_count": null,
   "id": "bbe59d82-0580-4245-8cb6-abfe1226ec68",
   "metadata": {},
   "outputs": [],
   "source": [
    "# set up a search using minisearch from Alexei Grigorev\n",
    "!wget https://raw.githubusercontent.com/alexeygrigorev/minsearch/main/minsearch.py"
   ]
  },
  {
   "cell_type": "code",
   "execution_count": null,
   "id": "63f90501-94c3-4feb-b365-d4fdb5e0fd93",
   "metadata": {},
   "outputs": [],
   "source": [
    "import minsearch"
   ]
  },
  {
   "cell_type": "code",
   "execution_count": null,
   "id": "23f43fdc-1a05-4835-85fe-29bd16092e68",
   "metadata": {},
   "outputs": [],
   "source": [
    "import json"
   ]
  },
  {
   "cell_type": "code",
   "execution_count": null,
   "id": "896f48e7-26a0-4afe-9d6e-40e825bd33a7",
   "metadata": {},
   "outputs": [],
   "source": [
    "# get the document\n",
    "!wget https://raw.githubusercontent.com/DataTalksClub/llm-zoomcamp/main/01-intro/documents.json"
   ]
  },
  {
   "cell_type": "code",
   "execution_count": null,
   "id": "3f7432de-fc58-4e39-97a0-48fa5976b213",
   "metadata": {},
   "outputs": [],
   "source": [
    "with open('documents.json', 'rt') as f_in:\n",
    "    docs_raw = json.load(f_in)"
   ]
  },
  {
   "cell_type": "code",
   "execution_count": null,
   "id": "32a1d666-e76f-4c5e-a6e3-180443c394d9",
   "metadata": {},
   "outputs": [],
   "source": [
    "documents = []\n",
    "\n",
    "for course_dict in docs_raw:\n",
    "    for doc in course_dict['documents']:\n",
    "        doc['course'] = course_dict['course']\n",
    "        documents.append(doc)"
   ]
  },
  {
   "cell_type": "code",
   "execution_count": null,
   "id": "45c64b66-957c-4d18-a8be-892a1a9ac266",
   "metadata": {},
   "outputs": [],
   "source": [
    "index = minsearch.Index(\n",
    "    text_fields = [\"question\", \"text\", \"section\"],\n",
    "    keyword_fields = [\"course\"]\n",
    ")"
   ]
  },
  {
   "cell_type": "code",
   "execution_count": null,
   "id": "27ca08b7-5c2b-4ba8-9dfd-4a1a610179dc",
   "metadata": {},
   "outputs": [],
   "source": [
    "# index (fit the index to) the documents\n",
    "index.fit(documents)"
   ]
  },
  {
   "cell_type": "code",
   "execution_count": null,
   "id": "ba5acd44-fb20-4ce9-bab5-300352a4e32b",
   "metadata": {},
   "outputs": [],
   "source": [
    "# some query (question) \n",
    "query = 'the course has already started, can I still enroll?'"
   ]
  },
  {
   "cell_type": "code",
   "execution_count": null,
   "id": "0d501488-0a3c-47aa-937a-8be5890cd4c4",
   "metadata": {},
   "outputs": [],
   "source": [
    "# let's search but make some fields more important and some less so\n",
    "boost = {'question': 3.0, 'section': 0.5}\n",
    "results = index.search(\n",
    "    query,\n",
    "    boost_dict = boost, \n",
    "    # filter_dict = {'course': 'data-engineering-zoomcamp'}, # if we want to search only for specific course \n",
    "    num_results = 5\n",
    ")"
   ]
  },
  {
   "cell_type": "code",
   "execution_count": null,
   "id": "5fd5df96-a1e9-4522-b066-745d2aafb2d5",
   "metadata": {},
   "outputs": [],
   "source": [
    "print(results)"
   ]
  },
  {
   "cell_type": "code",
   "execution_count": null,
   "id": "c6f3fc29-ce24-427f-a30a-0b8224ad4ec7",
   "metadata": {},
   "outputs": [],
   "source": [
    "# combine LLM and search"
   ]
  },
  {
   "cell_type": "code",
   "execution_count": null,
   "id": "4613a2d0-8e18-478b-8b1f-74ee7e7b3028",
   "metadata": {},
   "outputs": [],
   "source": [
    "# create the prompt template\n",
    "prompt_template = \"\"\"\n",
    "You're a course teaching assistant. Answer the QUESTION based on the CONTEXT from the FAQ database. \n",
    "Use only the facts from the CONTEXT when answering the QUESTION.\n",
    "If the CONTEXT doesn't contain the answer, output NONE\n",
    "\n",
    "QUESTION: {question}\n",
    "\n",
    "CONTEXT: {context}\n",
    "\"\"\".strip()"
   ]
  },
  {
   "cell_type": "code",
   "execution_count": null,
   "id": "95f99242-4845-4ed5-b963-de9374fb9670",
   "metadata": {},
   "outputs": [],
   "source": [
    "# define the context\n",
    "context = \"\"\n",
    "for doc in results:\n",
    "    context += f\"section: {doc['section']}\\nquestion: {doc['question']}\\nanswer: {doc['text']}\\n\\n\""
   ]
  },
  {
   "cell_type": "code",
   "execution_count": null,
   "id": "03087240-ddea-4c60-bc9e-162534e49f7d",
   "metadata": {},
   "outputs": [],
   "source": [
    "prompt = prompt_template.format(question = query, context = context).strip()"
   ]
  },
  {
   "cell_type": "code",
   "execution_count": null,
   "id": "96198f80-dc4c-42ee-b300-b3a6a51f2037",
   "metadata": {},
   "outputs": [],
   "source": [
    "print(prompt)"
   ]
  },
  {
   "cell_type": "code",
   "execution_count": null,
   "id": "6c7bea51-d3ba-47b0-a50b-25d2a808039d",
   "metadata": {},
   "outputs": [],
   "source": [
    "# feed it to LLM\n",
    "response = client.chat(\n",
    "    model = \"mistral-large-latest\",\n",
    "    messages = [ChatMessage(role = \"user\", content = prompt)]\n",
    ")\n",
    "print(response.choices[0].message.content)"
   ]
  },
  {
   "cell_type": "code",
   "execution_count": null,
   "id": "7fd45208-537d-4853-a2ba-08b910a274d4",
   "metadata": {},
   "outputs": [],
   "source": [
    "# clean up the flow"
   ]
  },
  {
   "cell_type": "code",
   "execution_count": null,
   "id": "f403586d-161c-4440-931a-9ef06e94cd37",
   "metadata": {},
   "outputs": [],
   "source": [
    "# define a function for search\n",
    "def search(query):\n",
    "    boost = {'question': 3.0, 'section': 0.5}\n",
    "    search_results = index.search(\n",
    "        query,\n",
    "        boost_dict = boost, \n",
    "        # filter_dict = {'course': 'data-engineering-zoomcamp'}, # if we want to ask only about one specific course \n",
    "        num_results = 10\n",
    "    )\n",
    "    return search_results\n",
    "    "
   ]
  },
  {
   "cell_type": "code",
   "execution_count": null,
   "id": "ee346b49-74f2-4085-b422-2df9bc7bc5cc",
   "metadata": {},
   "outputs": [],
   "source": [
    "# define a function for building a prompt\n",
    "def build_prompt(query, search_results):\n",
    "    prompt_template = \"\"\"\n",
    "    You're a course teaching assistant. Answer the QUESTION based on the CONTEXT from the FAQ database. \n",
    "    Use only the facts from the CONTEXT when answering the QUESTION.\n",
    "    If the CONTEXT doesn't contain the answer, output NONE\n",
    "\n",
    "    QUESTION: {question}\n",
    "\n",
    "    CONTEXT: {context}\n",
    "    \"\"\".strip()\n",
    "\n",
    "    context = \"\"\n",
    "    \n",
    "    for doc in search_results:\n",
    "        context = context + f\"section: {doc['section']}\\nquestion: {doc['question']}\\nanswer: {doc['text']}\\n\\n\"\n",
    "\n",
    "    prompt = prompt_template.format(question = query, context = context).strip()\n",
    "    return prompt\n",
    "    "
   ]
  },
  {
   "cell_type": "code",
   "execution_count": null,
   "id": "1a504735-3cee-46de-a70a-ea03c3b4e291",
   "metadata": {},
   "outputs": [],
   "source": [
    "# define a function to talk to LLM\n",
    "def llm(prompt):\n",
    "    response = client.chat(\n",
    "    model = \"mistral-large-latest\",\n",
    "    messages = [ChatMessage(role = \"user\", content = prompt)]\n",
    "    )    \n",
    "    return response.choices[0].message.content"
   ]
  },
  {
   "cell_type": "code",
   "execution_count": null,
   "id": "91617703-cf2d-4afb-a285-a0b9b8dccb74",
   "metadata": {},
   "outputs": [],
   "source": [
    "# call these functions within in one other function\n",
    "query = 'how do I run kafka?'\n",
    "\n",
    "def rag(query):\n",
    "    search_results = search(query)\n",
    "    prompt = build_prompt(query, search_results)\n",
    "    answer = llm(prompt)\n",
    "    return answer"
   ]
  },
  {
   "cell_type": "code",
   "execution_count": null,
   "id": "9b83d658-338f-4f96-860d-bfb9b56192d2",
   "metadata": {},
   "outputs": [],
   "source": [
    "print(rag('the course has already started, can I enroll now?'))"
   ]
  },
  {
   "cell_type": "code",
   "execution_count": null,
   "id": "01069dda-d04a-4aed-9b24-dc3f084d25ac",
   "metadata": {},
   "outputs": [],
   "source": [
    "# replace Alexey's search with elasticsearch"
   ]
  },
  {
   "cell_type": "code",
   "execution_count": null,
   "id": "4aed8022-4eb3-4761-b6ee-03252555b770",
   "metadata": {},
   "outputs": [],
   "source": [
    "from elasticsearch import Elasticsearch"
   ]
  },
  {
   "cell_type": "code",
   "execution_count": null,
   "id": "2713b13c-16c5-43ca-a272-e0c72e676e1b",
   "metadata": {},
   "outputs": [],
   "source": [
    "# create elastic search client\n",
    "es_client = Elasticsearch('http://localhost:9200')"
   ]
  },
  {
   "cell_type": "code",
   "execution_count": null,
   "id": "12800974-d304-48c3-ab73-23a7a6ba8662",
   "metadata": {},
   "outputs": [],
   "source": [
    "# check that it worked and retrieve info for hw1 Q1\n",
    "es_client.info()['version']['build_hash']"
   ]
  },
  {
   "cell_type": "code",
   "execution_count": null,
   "id": "06c83b04-88cd-4e6c-a48a-37114b06ae0c",
   "metadata": {},
   "outputs": [],
   "source": [
    "# create an index\n",
    "index_settings = {\n",
    "    \"settings\": {\n",
    "        \"number_of_shards\": 1,\n",
    "        \"number_of_replicas\": 0\n",
    "    },\n",
    "    \"mappings\": {\n",
    "        \"properties\": {\n",
    "            \"text\": {\"type\": \"text\"},\n",
    "            \"section\": {\"type\": \"text\"},\n",
    "            \"question\": {\"type\": \"text\"},\n",
    "            \"course\": {\"type\": \"keyword\"} # we use course names for filtering\n",
    "        }\n",
    "    }\n",
    "}\n",
    "\n",
    "index_name = \"course-questions\"\n",
    "\n",
    "es_client.indices.create(index = index_name, body = index_settings)"
   ]
  },
  {
   "cell_type": "code",
   "execution_count": null,
   "id": "8804c92c-9ec0-442c-92d2-8a57e9377fb7",
   "metadata": {},
   "outputs": [],
   "source": [
    "from tqdm.auto import tqdm"
   ]
  },
  {
   "cell_type": "code",
   "execution_count": null,
   "id": "cef870b8-cb84-458e-bf3e-9a5c2edcdb8b",
   "metadata": {},
   "outputs": [],
   "source": [
    "# index the docs\n",
    "for doc in documents:\n",
    "    es_client.index(index = index_name, document = doc)"
   ]
  },
  {
   "cell_type": "code",
   "execution_count": null,
   "id": "efb4b888-8052-4d5f-a7ae-762e053cc001",
   "metadata": {},
   "outputs": [],
   "source": [
    "query = 'I just discovered the course. Can I still join it?'"
   ]
  },
  {
   "cell_type": "code",
   "execution_count": null,
   "id": "7fb2fe74-00ea-4f78-802d-c33c0723c578",
   "metadata": {},
   "outputs": [],
   "source": [
    "def elastic_search(query):\n",
    "    search_query = {\n",
    "        \"size\": 5,\n",
    "        \"query\": {\n",
    "            \"bool\": {\n",
    "                \"must\": {\n",
    "                    \"multi_match\": {\n",
    "                        \"query\": query,\n",
    "                        \"fields\": [\"question^3\", \"text\", \"section\"], # ^3 - makes this field 3x important\n",
    "                        \"type\": \"best_fields\"\n",
    "                    }\n",
    "                },\n",
    "                \"filter\": {\n",
    "                    \"term\": {\n",
    "                        \"course\": \"data-engineering-zoomcamp\"\n",
    "                    }\n",
    "                }\n",
    "            }\n",
    "        }\n",
    "    }\n",
    "\n",
    "    response = es_client.search(index=index_name, body=search_query)\n",
    "    result_docs = [hit['_source'] for hit in response['hits']['hits']]\n",
    "    return result_docs"
   ]
  },
  {
   "cell_type": "code",
   "execution_count": null,
   "id": "15a6b697-0c95-4557-b774-05e53e751868",
   "metadata": {},
   "outputs": [],
   "source": [
    "search_results = elastic_search(query)\n",
    "print(search_results)"
   ]
  },
  {
   "cell_type": "code",
   "execution_count": null,
   "id": "d8a10b8c-0917-4cf8-931c-1b123946f936",
   "metadata": {},
   "outputs": [],
   "source": [
    "# adjust rag function\n",
    "def rag_es(query):\n",
    "    search_results = elastic_search(query)\n",
    "    prompt = build_prompt(query, search_results)\n",
    "    answer = llm(prompt)\n",
    "    return answer"
   ]
  },
  {
   "cell_type": "code",
   "execution_count": null,
   "id": "c0bd6ce6-0afe-4e0f-a977-208d5e3395ed",
   "metadata": {},
   "outputs": [],
   "source": [
    "rag_es(\"The course has already started, can I still join?\")"
   ]
  },
  {
   "cell_type": "code",
   "execution_count": null,
   "id": "d8ed0457-38c8-4a4d-82a5-5ced61a22f26",
   "metadata": {},
   "outputs": [],
   "source": [
    "# TODO: HW"
   ]
  }
 ],
 "metadata": {
  "kernelspec": {
   "display_name": "Python 3 (ipykernel)",
   "language": "python",
   "name": "python3"
  },
  "language_info": {
   "codemirror_mode": {
    "name": "ipython",
    "version": 3
   },
   "file_extension": ".py",
   "mimetype": "text/x-python",
   "name": "python",
   "nbconvert_exporter": "python",
   "pygments_lexer": "ipython3",
   "version": "3.10.13"
  }
 },
 "nbformat": 4,
 "nbformat_minor": 5
}
