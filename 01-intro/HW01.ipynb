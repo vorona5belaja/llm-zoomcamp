{
 "cells": [
  {
   "cell_type": "code",
   "execution_count": null,
   "id": "0c24292f-9496-4b67-8a7b-ceefa21e620c",
   "metadata": {},
   "outputs": [],
   "source": [
    "# this notebook was created during LLM zoomcamp 2024\n",
    "# it's for HW 1"
   ]
  },
  {
   "cell_type": "code",
   "execution_count": null,
   "id": "a604ee58-122a-4aea-9864-37c1f41888b4",
   "metadata": {},
   "outputs": [],
   "source": [
    "# Q1\n",
    "# !pip install elasticsearch\n",
    "from elasticsearch import Elasticsearch"
   ]
  },
  {
   "cell_type": "code",
   "execution_count": null,
   "id": "50407ef0-5201-445a-9fb5-e738930a6243",
   "metadata": {},
   "outputs": [],
   "source": [
    "# create elastic search client\n",
    "es_client = Elasticsearch('http://localhost:9200')\n",
    "# check that it worked and retrieve info for hw1 Q1\n",
    "Q1 = es_client.info()['version']['build_hash']"
   ]
  },
  {
   "cell_type": "code",
   "execution_count": null,
   "id": "4d94ddca-1af1-4294-afc7-0dd34b6c8d6e",
   "metadata": {},
   "outputs": [],
   "source": [
    "# get data and index"
   ]
  },
  {
   "cell_type": "code",
   "execution_count": null,
   "id": "3630060a-2ef8-4fdb-9ccd-13b05b3fefec",
   "metadata": {},
   "outputs": [],
   "source": [
    "!pip install requests"
   ]
  },
  {
   "cell_type": "code",
   "execution_count": null,
   "id": "508c971e-5e03-42f1-99d3-37c5dc94eb7c",
   "metadata": {},
   "outputs": [],
   "source": [
    "# get FAQ for HW\n",
    "import requests \n",
    "\n",
    "docs_url = 'https://github.com/DataTalksClub/llm-zoomcamp/blob/main/01-intro/documents.json?raw=1'\n",
    "docs_response = requests.get(docs_url)\n",
    "documents_raw = docs_response.json()\n",
    "\n",
    "documents = []\n",
    "\n",
    "for course in documents_raw:\n",
    "    course_name = course['course']\n",
    "\n",
    "    for doc in course['documents']:\n",
    "        doc['course'] = course_name\n",
    "        documents.append(doc)"
   ]
  },
  {
   "cell_type": "code",
   "execution_count": null,
   "id": "5b9a417f-c6d0-4db5-ba7e-d5cb3bc94411",
   "metadata": {},
   "outputs": [],
   "source": [
    "# Use only question and text fields and give question a boost of 4, and use \"type\": \"best_fields\".\n",
    "# for Q3 _score needed"
   ]
  },
  {
   "cell_type": "code",
   "execution_count": null,
   "id": "b35c6013-7269-4e68-b173-0eb0d85a7f3c",
   "metadata": {},
   "outputs": [],
   "source": [
    "# index data\n",
    "# create an index\n",
    "index_settings = {\n",
    "    \"settings\": {\n",
    "        \"number_of_shards\": 1,\n",
    "        \"number_of_replicas\": 0\n",
    "    },\n",
    "    \"mappings\": {\n",
    "        \"properties\": {\n",
    "            \"text\": {\"type\": \"text\"},\n",
    "            \"section\": {\"type\": \"text\"},\n",
    "            \"question\": {\"type\": \"text\"},\n",
    "            \"course\": {\"type\": \"keyword\"} # we use course names for filtering\n",
    "        }\n",
    "    }\n",
    "}\n",
    "\n",
    "index_name = \"course-questions\"\n",
    "\n",
    "es_client.indices.create(index = index_name, body = index_settings)"
   ]
  },
  {
   "cell_type": "code",
   "execution_count": null,
   "id": "61aa3d5f-055f-4a2f-8bf9-bbdc4ffe05ac",
   "metadata": {},
   "outputs": [],
   "source": [
    "# index the docs\n",
    "for doc in documents:\n",
    "    es_client.index(index = index_name, document = doc)"
   ]
  },
  {
   "cell_type": "code",
   "execution_count": null,
   "id": "e2644afe-6cba-448f-a213-e02e4e28e03b",
   "metadata": {},
   "outputs": [],
   "source": [
    "Q2 = \"index\""
   ]
  },
  {
   "cell_type": "code",
   "execution_count": null,
   "id": "0574c5b7-dd39-4c79-87cc-e9acc08dd612",
   "metadata": {},
   "outputs": [],
   "source": [
    "# modify function as stated in the task and to return more details (we need _score)\n",
    "def elastic_search_score(query):\n",
    "    search_query = {\n",
    "        \"size\": 5,\n",
    "        \"query\": {\n",
    "            \"bool\": {\n",
    "                \"must\": {\n",
    "                    \"multi_match\": {\n",
    "                        \"query\": query,\n",
    "                        \"fields\": [\"question^4\", \"text\"], # ^4 - makes this field 4x important\n",
    "                        \"type\": \"best_fields\"\n",
    "                    }\n",
    "                # },\n",
    "                # \"filter\": {\n",
    "                #     \"term\": {\n",
    "                #         \"course\": \"data-engineering-zoomcamp\" # it wasn't specified in the task\n",
    "                #     }\n",
    "                }\n",
    "            }\n",
    "        }\n",
    "    }\n",
    "\n",
    "    response = es_client.search(index = index_name, body = search_query)\n",
    "    # result_docs = [hit['_source'] for hit in response['hits']['hits']]\n",
    "    return response"
   ]
  },
  {
   "cell_type": "code",
   "execution_count": null,
   "id": "41396212-7ea0-4421-b5df-c0f25046ba69",
   "metadata": {},
   "outputs": [],
   "source": [
    "# our new query\n",
    "query = \"How do I execute a command in a running docker container?\""
   ]
  },
  {
   "cell_type": "code",
   "execution_count": null,
   "id": "66dbe453-b7ed-4106-b767-9e6e70f60ae7",
   "metadata": {},
   "outputs": [],
   "source": [
    "# Q3 get score of the best answer\n",
    "Q3 = elastic_search_score(query)['hits']['max_score']"
   ]
  },
  {
   "cell_type": "code",
   "execution_count": null,
   "id": "13eedb62-2ec5-447f-9007-0ef97460ee33",
   "metadata": {},
   "outputs": [],
   "source": [
    "# Q4. limit the questions to machine-learning-zoomcamp, return 3 results\n",
    "def elastic_search(query, course):\n",
    "    search_query = {\n",
    "        \"size\": 3, # asked for 3 results\n",
    "        \"query\": {\n",
    "            \"bool\": {\n",
    "                \"must\": {\n",
    "                    \"multi_match\": {\n",
    "                        \"query\": query,\n",
    "                        \"fields\": [\"question^4\", \"text\"], # ^4 - makes this field 4x important\n",
    "                        \"type\": \"best_fields\"\n",
    "                    }\n",
    "                },\n",
    "                \"filter\": {\n",
    "                    \"term\": {\n",
    "                        \"course\": course # use a variable\n",
    "                    }\n",
    "                }\n",
    "            }\n",
    "        }\n",
    "    }\n",
    "\n",
    "    response = es_client.search(index=index_name, body=search_query)\n",
    "    # result_docs = [hit['_source'] for hit in response['hits']['hits']]\n",
    "    return response"
   ]
  },
  {
   "cell_type": "code",
   "execution_count": null,
   "id": "f5965b46-7796-43a0-95a2-15a0d5f26ea0",
   "metadata": {},
   "outputs": [],
   "source": [
    "query = \"How do I execute a command in a running docker container?\"\n",
    "course = \"machine-learning-zoomcamp\"\n",
    "\n",
    "# Q4 answer\n",
    "Q4 = elastic_search(query, course)['hits']['hits'][2]['_source']['question']"
   ]
  },
  {
   "cell_type": "code",
   "execution_count": null,
   "id": "dcfe7967-2f32-4603-95d1-6e1523c103a2",
   "metadata": {},
   "outputs": [],
   "source": [
    "# Q5. return question and text for the prompt\n",
    "def elastic_search_qt(query, course):\n",
    "    search_query = {\n",
    "        \"size\": 3, # asked for 3 results\n",
    "        \"query\": {\n",
    "            \"bool\": {\n",
    "                \"must\": {\n",
    "                    \"multi_match\": {\n",
    "                        \"query\": query,\n",
    "                        \"fields\": [\"question^4\", \"text\"], # ^4 - makes this field 4x important\n",
    "                        \"type\": \"best_fields\"\n",
    "                    }\n",
    "                },\n",
    "                \"filter\": {\n",
    "                    \"term\": {\n",
    "                        \"course\": course # use a variable\n",
    "                    }\n",
    "                }\n",
    "            }\n",
    "        }\n",
    "    }\n",
    "\n",
    "    response = es_client.search(index=index_name, body=search_query)\n",
    "    \n",
    "    question = []\n",
    "    \n",
    "    for hit in response['hits']['hits']:\n",
    "        question.append(hit['_source']['question'])\n",
    "    \n",
    "    text = []\n",
    "\n",
    "    for hit in response['hits']['hits']:\n",
    "        text.append(hit['_source']['text'])\n",
    "        \n",
    "    return text, question"
   ]
  },
  {
   "cell_type": "code",
   "execution_count": null,
   "id": "fc6c5f51-7aa0-407d-b5f0-504e3b894820",
   "metadata": {},
   "outputs": [],
   "source": [
    "# test\n",
    "response_t, response_q = elastic_search_qt(query, course)\n",
    "response_t, response_q"
   ]
  },
  {
   "cell_type": "code",
   "execution_count": null,
   "id": "adb158de-11ba-4d43-8631-0dc38d05ca24",
   "metadata": {},
   "outputs": [],
   "source": [
    "# build a prompt\n",
    "# define a function for building a prompt using given templates\n",
    "def build_prompt(query, text, question):\n",
    "    prompt_template = \"\"\"\n",
    "    You're a course teaching assistant. Answer the QUESTION based on the CONTEXT from the FAQ database. \n",
    "    Use only the facts from the CONTEXT when answering the QUESTION.\n",
    "\n",
    "    QUESTION: {question}\n",
    "\n",
    "    CONTEXT: {context}\n",
    "    \"\"\".strip()\n",
    "\n",
    "    context_template = \"\"\"\n",
    "    Q: {question}\n",
    "    A: {text}\n",
    "    \"\"\".strip()\n",
    "\n",
    "    context = context_template.format(question = question, text = text).strip()\n",
    "\n",
    "    prompt = prompt_template.format(question = query, context = context).strip()\n",
    "    return prompt"
   ]
  },
  {
   "cell_type": "code",
   "execution_count": null,
   "id": "9cd24040-a16b-4693-8ef2-62ac0af6a2e7",
   "metadata": {},
   "outputs": [],
   "source": [
    "#Q5 calculate len\n",
    "response_t, response_q = elastic_search_qt(query, course)\n",
    "Q5 = len(build_prompt(query, response_t, response_q))"
   ]
  },
  {
   "cell_type": "code",
   "execution_count": null,
   "id": "cf88d9fb-9795-4047-8734-27cb77febd0d",
   "metadata": {},
   "outputs": [],
   "source": [
    "our_prompt = build_prompt(query, response_t, response_q)"
   ]
  },
  {
   "cell_type": "code",
   "execution_count": null,
   "id": "4256adb0-b239-46b4-83ae-75b4e49e0943",
   "metadata": {},
   "outputs": [],
   "source": [
    "# tokens\n",
    "!pip install tiktoken"
   ]
  },
  {
   "cell_type": "code",
   "execution_count": null,
   "id": "babfdd68-a42b-4dfa-9209-da523188c23e",
   "metadata": {},
   "outputs": [],
   "source": [
    "# count tokens\n",
    "import tiktoken\n",
    "encoding = tiktoken.encoding_for_model(\"gpt-4o\")\n",
    "Q6 = len(encoding.encode(our_prompt))"
   ]
  }
 ],
 "metadata": {
  "kernelspec": {
   "display_name": "Python 3 (ipykernel)",
   "language": "python",
   "name": "python3"
  },
  "language_info": {
   "codemirror_mode": {
    "name": "ipython",
    "version": 3
   },
   "file_extension": ".py",
   "mimetype": "text/x-python",
   "name": "python",
   "nbconvert_exporter": "python",
   "pygments_lexer": "ipython3",
   "version": "3.10.13"
  }
 },
 "nbformat": 4,
 "nbformat_minor": 5
}
